{
 "cells": [
  {
   "cell_type": "code",
   "execution_count": 54,
   "id": "9d169c75",
   "metadata": {},
   "outputs": [],
   "source": [
    "import numpy as np\n",
    "import pandas as pd\n",
    "from sklearn import preprocessing\n",
    "from sklearn.model_selection import train_test_split\n",
    "from sklearn.linear_model import LogisticRegression\n",
    "from sklearn.metrics import classification_report\n",
    "from sklearn.inspection import permutation_importance\n",
    "from sklearn.metrics import confusion_matrix\n",
    "from sklearn.metrics import recall_score, precision_score\n",
    "from sklearn.ensemble import RandomForestClassifier\n",
    "import xgboost as xgb\n",
    "import matplotlib.pyplot as plt\n",
    "import gc\n",
    "from sklearn.metrics import accuracy_score, classification_report\n",
    "from sklearn.model_selection import RandomizedSearchCV\n",
    "from sklearn.ensemble import RandomForestRegressor\n",
    "import joblib\n",
    "from sklearn import metrics"
   ]
  },
  {
   "cell_type": "code",
   "execution_count": 22,
   "id": "2ae5bc7e",
   "metadata": {},
   "outputs": [],
   "source": [
    "df0 = pd.read_csv(\"/Users/ketansand/Downloads/Flight_Data/clean_data.csv\", parse_dates=[1])\n",
    "df0 = df0.loc[:, ~df0.columns.str.contains('^Unnamed')]"
   ]
  },
  {
   "cell_type": "code",
   "execution_count": 23,
   "id": "24fb8e45",
   "metadata": {},
   "outputs": [],
   "source": [
    "df0 = df0[df0['DEP_DELAY']>15]"
   ]
  },
  {
   "cell_type": "code",
   "execution_count": 24,
   "id": "d237a53b",
   "metadata": {},
   "outputs": [],
   "source": [
    "df0['DELAY_range'] = df0['DEP_DELAY'].apply(lambda x: 1 if x <= 30 else x)\n",
    "df0['DELAY_range'] = df0['DELAY_range'].apply(lambda x: 2 if (30 < x < 60) else x)\n",
    "df0['DELAY_range'] = df0['DELAY_range'].apply(lambda x: 3 if x >= 60 else x)\n",
    "\n",
    "# One-hot encode categorical variables\n",
    "df0 = pd.get_dummies(df0,columns=['OP_UNIQUE_CARRIER','ORIGIN_AIRPORT_ID','DEST_AIRPORT_ID'], drop_first=True, dtype=float) # one-hot\n",
    "\n",
    "# Convert cyclical vars (frac_day & frac_year) to sin and cos columns\n",
    "df0 = df0.assign(YEAR_FRAC_sin=pd.Series(np.sin(2.*np.pi*df0['FRAC_YEAR']/1.0)).values)\n",
    "df0 = df0.assign(YEAR_FRAC_cos=pd.Series(np.cos(2.*np.pi*df0['FRAC_YEAR']/1.0)).values)\n",
    "df0 = df0.assign(DAY_FRAC_sin=pd.Series(np.sin(2.*np.pi*df0['FRAC_DAY']/1.0)).values)\n",
    "df0 = df0.assign(DAY_FRAC_cos=pd.Series(np.cos(2.*np.pi*df0['FRAC_DAY']/1.0)).values)\n",
    "df0 = df0.drop(columns=['FRAC_DAY','FRAC_YEAR'])\n",
    "\n",
    "# Additional cleaning\n",
    "df0 = df0.drop(columns=['CARRIER_DELAY','WEATHER_DELAY','NAS_DELAY','SECURITY_DELAY','LATE_AIRCRAFT_DELAY','DEP_DELAY'])\n",
    "df0 = df0.loc[:, ~df0.columns.str.contains('^Unnamed')]"
   ]
  },
  {
   "cell_type": "code",
   "execution_count": 25,
   "id": "8431ed71",
   "metadata": {},
   "outputs": [
    {
     "data": {
      "text/plain": [
       "90"
      ]
     },
     "execution_count": 25,
     "metadata": {},
     "output_type": "execute_result"
    }
   ],
   "source": [
    "gc.collect()"
   ]
  },
  {
   "cell_type": "code",
   "execution_count": 26,
   "id": "41180eee",
   "metadata": {},
   "outputs": [],
   "source": [
    "test = df0['FL_DATE'].dt.year.isin([2023]) & df0['FL_DATE'].dt.month.isin([7,8])\n",
    "df_test = df0[test]\n",
    "df_train = df0[~test]\n",
    "\n",
    "y_test = df_test['DELAY_range']\n",
    "X_test = df_test.drop(columns=['DELAY_range','FL_DATE'])\n",
    "\n",
    "y_train = df_train['DELAY_range']\n",
    "X_train = df_train.drop(columns=['DELAY_range']) "
   ]
  },
  {
   "cell_type": "code",
   "execution_count": 27,
   "id": "dc6d4806",
   "metadata": {},
   "outputs": [
    {
     "data": {
      "text/html": [
       "<div>\n",
       "<style scoped>\n",
       "    .dataframe tbody tr th:only-of-type {\n",
       "        vertical-align: middle;\n",
       "    }\n",
       "\n",
       "    .dataframe tbody tr th {\n",
       "        vertical-align: top;\n",
       "    }\n",
       "\n",
       "    .dataframe thead th {\n",
       "        text-align: right;\n",
       "    }\n",
       "</style>\n",
       "<table border=\"1\" class=\"dataframe\">\n",
       "  <thead>\n",
       "    <tr style=\"text-align: right;\">\n",
       "      <th></th>\n",
       "      <th>AIR_TIME</th>\n",
       "    </tr>\n",
       "  </thead>\n",
       "  <tbody>\n",
       "    <tr>\n",
       "      <th>13534026</th>\n",
       "      <td>98.0</td>\n",
       "    </tr>\n",
       "    <tr>\n",
       "      <th>13534029</th>\n",
       "      <td>105.0</td>\n",
       "    </tr>\n",
       "    <tr>\n",
       "      <th>13534038</th>\n",
       "      <td>109.0</td>\n",
       "    </tr>\n",
       "  </tbody>\n",
       "</table>\n",
       "</div>"
      ],
      "text/plain": [
       "          AIR_TIME\n",
       "13534026      98.0\n",
       "13534029     105.0\n",
       "13534038     109.0"
      ]
     },
     "execution_count": 27,
     "metadata": {},
     "output_type": "execute_result"
    }
   ],
   "source": [
    "X_test[['AIR_TIME']].head(3)"
   ]
  },
  {
   "cell_type": "code",
   "execution_count": 28,
   "id": "58b8f2c4",
   "metadata": {},
   "outputs": [],
   "source": [
    "scaler = preprocessing.MinMaxScaler()\n",
    "scaler.fit(X_train[['AIR_TIME']])\n",
    "\n",
    "X_train[['AIR_TIME']] = scaler.transform(X_train[['AIR_TIME']])\n",
    "X_test[['AIR_TIME']] = scaler.transform(X_test[['AIR_TIME']])"
   ]
  },
  {
   "cell_type": "code",
   "execution_count": 29,
   "id": "85ffd33a",
   "metadata": {},
   "outputs": [
    {
     "data": {
      "text/html": [
       "<div>\n",
       "<style scoped>\n",
       "    .dataframe tbody tr th:only-of-type {\n",
       "        vertical-align: middle;\n",
       "    }\n",
       "\n",
       "    .dataframe tbody tr th {\n",
       "        vertical-align: top;\n",
       "    }\n",
       "\n",
       "    .dataframe thead th {\n",
       "        text-align: right;\n",
       "    }\n",
       "</style>\n",
       "<table border=\"1\" class=\"dataframe\">\n",
       "  <thead>\n",
       "    <tr style=\"text-align: right;\">\n",
       "      <th></th>\n",
       "      <th>AIR_TIME</th>\n",
       "    </tr>\n",
       "  </thead>\n",
       "  <tbody>\n",
       "    <tr>\n",
       "      <th>13534026</th>\n",
       "      <td>0.135802</td>\n",
       "    </tr>\n",
       "    <tr>\n",
       "      <th>13534029</th>\n",
       "      <td>0.148148</td>\n",
       "    </tr>\n",
       "    <tr>\n",
       "      <th>13534038</th>\n",
       "      <td>0.155203</td>\n",
       "    </tr>\n",
       "  </tbody>\n",
       "</table>\n",
       "</div>"
      ],
      "text/plain": [
       "          AIR_TIME\n",
       "13534026  0.135802\n",
       "13534029  0.148148\n",
       "13534038  0.155203"
      ]
     },
     "execution_count": 29,
     "metadata": {},
     "output_type": "execute_result"
    }
   ],
   "source": [
    "X_test[['AIR_TIME']].head(3)"
   ]
  },
  {
   "cell_type": "code",
   "execution_count": 30,
   "id": "316257a6",
   "metadata": {},
   "outputs": [
    {
     "name": "stdout",
     "output_type": "stream",
     "text": [
      "[21.]\n",
      "[588.]\n"
     ]
    }
   ],
   "source": [
    "print(scaler.data_min_)\n",
    "print(scaler.data_max_)"
   ]
  },
  {
   "cell_type": "code",
   "execution_count": 31,
   "id": "70117ebd",
   "metadata": {},
   "outputs": [],
   "source": [
    "year_column = X_train['FL_DATE'].dt.year\n",
    "i_covid = np.logical_or(year_column == 2020, year_column == 2021).values"
   ]
  },
  {
   "cell_type": "code",
   "execution_count": 32,
   "id": "23002da0",
   "metadata": {},
   "outputs": [],
   "source": [
    "fy=2022\n",
    "i_t = (year_column >= fy).values\n",
    "X_t = X_train.iloc[i_t].drop(columns=['FL_DATE'])\n",
    "y_t = y_train.iloc[i_t]"
   ]
  },
  {
   "cell_type": "code",
   "execution_count": 33,
   "id": "824a0920",
   "metadata": {},
   "outputs": [],
   "source": [
    "X_tt, X_val, y_tt, y_val = train_test_split(X_t, y_t,\n",
    "                                            shuffle=True,\n",
    "                                            random_state=514,\n",
    "                                            test_size=.2)"
   ]
  },
  {
   "cell_type": "code",
   "execution_count": 34,
   "id": "9324f188",
   "metadata": {},
   "outputs": [],
   "source": [
    "del df0,df_test,df_train"
   ]
  },
  {
   "cell_type": "code",
   "execution_count": 35,
   "id": "16bc01a6",
   "metadata": {},
   "outputs": [
    {
     "data": {
      "text/plain": [
       "LogisticRegression(max_iter=1000, multi_class='multinomial')"
      ]
     },
     "execution_count": 35,
     "metadata": {},
     "output_type": "execute_result"
    }
   ],
   "source": [
    "model = LogisticRegression(multi_class='multinomial', solver='lbfgs', max_iter=1000)\n",
    "\n",
    "# Fit the model to the training data\n",
    "model.fit(X_tt, y_tt)"
   ]
  },
  {
   "cell_type": "code",
   "execution_count": 39,
   "id": "709dcb25",
   "metadata": {},
   "outputs": [
    {
     "name": "stdout",
     "output_type": "stream",
     "text": [
      "Accuracy: 0.41\n",
      "Classification Report:\n",
      "               precision    recall  f1-score   support\n",
      "\n",
      "         1.0       0.40      0.50      0.44     28615\n",
      "         2.0       0.37      0.00      0.01     24765\n",
      "         3.0       0.41      0.65      0.51     29892\n",
      "\n",
      "    accuracy                           0.41     83272\n",
      "   macro avg       0.39      0.38      0.32     83272\n",
      "weighted avg       0.40      0.41      0.34     83272\n",
      "\n"
     ]
    },
    {
     "data": {
      "text/plain": [
       "['log_reg_delay_range_22_23.joblib']"
      ]
     },
     "execution_count": 39,
     "metadata": {},
     "output_type": "execute_result"
    }
   ],
   "source": [
    "y_pred = model.predict(X_val)\n",
    "\n",
    "# Evaluate the model\n",
    "accuracy = accuracy_score(y_val, y_pred)\n",
    "report = classification_report(y_val, y_pred)\n",
    "\n",
    "# Print the results\n",
    "print(f\"Accuracy: {accuracy:.2f}\")\n",
    "print(\"Classification Report:\\n\", report)\n",
    "\n",
    "joblib.dump(model,'log_reg_delay_range_22_23.joblib', compress=5)"
   ]
  },
  {
   "cell_type": "code",
   "execution_count": 40,
   "id": "87d00741",
   "metadata": {},
   "outputs": [
    {
     "data": {
      "text/plain": [
       "RandomForestClassifier(random_state=42)"
      ]
     },
     "execution_count": 40,
     "metadata": {},
     "output_type": "execute_result"
    }
   ],
   "source": [
    "rf_classifier = RandomForestClassifier(n_estimators=100, random_state=42)\n",
    "\n",
    "# Fit the model to the training data\n",
    "rf_classifier.fit(X_tt, y_tt)"
   ]
  },
  {
   "cell_type": "code",
   "execution_count": 52,
   "id": "b5702a3c",
   "metadata": {},
   "outputs": [
    {
     "name": "stdout",
     "output_type": "stream",
     "text": [
      "Accuracy: 0.64\n",
      "Classification Report:\n",
      "               precision    recall  f1-score   support\n",
      "\n",
      "         1.0       0.65      0.71      0.68     28615\n",
      "         2.0       0.60      0.51      0.55     24765\n",
      "         3.0       0.67      0.70      0.68     29892\n",
      "\n",
      "    accuracy                           0.64     83272\n",
      "   macro avg       0.64      0.64      0.64     83272\n",
      "weighted avg       0.64      0.64      0.64     83272\n",
      "\n"
     ]
    },
    {
     "data": {
      "text/plain": [
       "['rf_delay_range_22_23.joblib']"
      ]
     },
     "execution_count": 52,
     "metadata": {},
     "output_type": "execute_result"
    }
   ],
   "source": [
    "y_pred = rf_classifier.predict(X_val)\n",
    "\n",
    "# Evaluate the model\n",
    "accuracy = accuracy_score(y_val, y_pred)\n",
    "report = classification_report(y_val, y_pred)\n",
    "\n",
    "# Print the results\n",
    "print(f\"Accuracy: {accuracy:.2f}\")\n",
    "print(\"Classification Report:\\n\", report)\n",
    "\n",
    "joblib.dump(rf_classifier,'rf_delay_range_22_23.joblib', compress=5)"
   ]
  },
  {
   "cell_type": "code",
   "execution_count": 43,
   "id": "f79f503b",
   "metadata": {},
   "outputs": [
    {
     "data": {
      "image/png": "[encoded data removed]",
      "text/plain": [
       "<Figure size 720x432 with 1 Axes>"
      ]
     },
     "metadata": {
      "needs_background": "light"
     },
     "output_type": "display_data"
    }
   ],
   "source": [
    "# feature importance based on impurity\n",
    "importances = rf_classifier.feature_importances_\n",
    "std = np.std([tree.feature_importances_ for tree in rf_classifier.estimators_], axis=0)\n",
    "\n",
    "feature_names = X_tt.columns\n",
    "forest_importances = pd.Series(importances, index=feature_names)\n",
    "\n",
    "fig, ax = plt.subplots(figsize=(10,6))\n",
    "forest_importances.plot.bar(yerr=std, ax=ax)\n",
    "ax.set_title(\"Feature importances using MDI\")\n",
    "ax.set_ylabel(\"Mean decrease in impurity\")\n",
    "fig.tight_layout()\n",
    "plt.savefig('RF_delayrange_feature_importance_imp.jpg', dpi=300, bbox_inches='tight')\n",
    "plt.show()"
   ]
  },
  {
   "cell_type": "code",
   "execution_count": 49,
   "id": "673d7f5e",
   "metadata": {},
   "outputs": [
    {
     "data": {
      "text/plain": [
       "XGBClassifier(base_score=None, booster=None, callbacks=None,\n",
       "              colsample_bylevel=None, colsample_bynode=None,\n",
       "              colsample_bytree=None, device=None, early_stopping_rounds=None,\n",
       "              enable_categorical=False, eval_metric=None, feature_types=None,\n",
       "              gamma=None, grow_policy=None, importance_type=None,\n",
       "              interaction_constraints=None, learning_rate=None, max_bin=None,\n",
       "              max_cat_threshold=None, max_cat_to_onehot=None,\n",
       "              max_delta_step=None, max_depth=10, max_leaves=None,\n",
       "              min_child_weight=None, missing=nan, monotone_constraints=None,\n",
       "              multi_strategy=None, n_estimators=100, n_jobs=None, num_class=3,\n",
       "              num_parallel_tree=None, ...)"
      ]
     },
     "execution_count": 49,
     "metadata": {},
     "output_type": "execute_result"
    }
   ],
   "source": [
    "from sklearn.preprocessing import LabelEncoder\n",
    "le = LabelEncoder()\n",
    "y_tt = le.fit_transform(y_tt)\n",
    "\n",
    "xgb_classifier = xgb.XGBClassifier(objective='multi:softmax', num_class=len(set(y_tt)), random_state=42, \n",
    "                                   n_estimators = 100, max_depth=10)\n",
    "\n",
    "# Fit the model to the training data\n",
    "xgb_classifier.fit(X_tt, y_tt)"
   ]
  },
  {
   "cell_type": "code",
   "execution_count": 51,
   "id": "e3b8ded0",
   "metadata": {},
   "outputs": [
    {
     "name": "stdout",
     "output_type": "stream",
     "text": [
      "Accuracy: 0.57\n",
      "Classification Report:\n",
      "               precision    recall  f1-score   support\n",
      "\n",
      "         1.0       0.57      0.65      0.61     28615\n",
      "         2.0       0.53      0.37      0.43     24765\n",
      "         3.0       0.60      0.67      0.63     29892\n",
      "\n",
      "    accuracy                           0.57     83272\n",
      "   macro avg       0.57      0.56      0.56     83272\n",
      "weighted avg       0.57      0.57      0.56     83272\n",
      "\n"
     ]
    },
    {
     "data": {
      "text/plain": [
       "['xg_delay_range_22_23.joblib']"
      ]
     },
     "execution_count": 51,
     "metadata": {},
     "output_type": "execute_result"
    }
   ],
   "source": [
    "y_pred = xgb_classifier.predict(X_val)\n",
    "y_pred = le.inverse_transform(y_pred)\n",
    "# Evaluate the model\n",
    "accuracy = accuracy_score(y_val, y_pred)\n",
    "report = classification_report(y_val, y_pred)\n",
    "\n",
    "# Print the results\n",
    "print(f\"Accuracy: {accuracy:.2f}\")\n",
    "print(\"Classification Report:\\n\", report)\n",
    "\n",
    "\n",
    "joblib.dump(xgb_classifier,'xg_delay_range_22_23.joblib', compress=5)"
   ]
  },
  {
   "cell_type": "code",
   "execution_count": null,
   "id": "5286a619",
   "metadata": {},
   "outputs": [],
   "source": []
  }
 ],
 "metadata": {
  "kernelspec": {
   "display_name": "Python 3",
   "language": "python",
   "name": "python3"
  },
  "language_info": {
   "codemirror_mode": {
    "name": "ipython",
    "version": 3
   },
   "file_extension": ".py",
   "mimetype": "text/x-python",
   "name": "python",
   "nbconvert_exporter": "python",
   "pygments_lexer": "ipython3",
   "version": "3.8.8"
  }
 },
 "nbformat": 4,
 "nbformat_minor": 5
}
