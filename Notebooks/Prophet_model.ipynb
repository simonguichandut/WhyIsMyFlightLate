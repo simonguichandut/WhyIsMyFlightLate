{
 "cells": [
  {
   "cell_type": "code",
   "execution_count": 1,
   "id": "a6476cab",
   "metadata": {},
   "outputs": [
    {
     "name": "stderr",
     "output_type": "stream",
     "text": [
      "/Users/ketansand/opt/anaconda3/lib/python3.8/site-packages/scipy/__init__.py:138: UserWarning: A NumPy version >=1.16.5 and <1.23.0 is required for this version of SciPy (detected version 1.24.4)\n",
      "  warnings.warn(f\"A NumPy version >={np_minversion} and <{np_maxversion} is required for this version of \"\n"
     ]
    }
   ],
   "source": [
    "import pandas as pd\n",
    "import numpy as np\n",
    "import matplotlib.pyplot as plt\n",
    "\n",
    "from datetime import datetime, timedelta\n",
    "from seaborn import set_style\n",
    "set_style(\"whitegrid\")"
   ]
  },
  {
   "cell_type": "code",
   "execution_count": 10,
   "id": "2c06f8f9",
   "metadata": {},
   "outputs": [],
   "source": [
    "import prophet\n",
    "from prophet import Prophet"
   ]
  },
  {
   "cell_type": "code",
   "execution_count": 21,
   "id": "91200019",
   "metadata": {},
   "outputs": [
    {
     "name": "stdout",
     "output_type": "stream",
     "text": [
      "83577\n"
     ]
    }
   ],
   "source": [
    "file = '/Users/ketansand/Downloads/Flight_Data/2022/Atlanta.csv'\n",
    "file_prev = '/Users/ketansand/Downloads/Flight_Data/2021/Atlanta.csv'\n",
    "\n",
    "data_2022 = pd.read_csv(file)\n",
    "data_2021 = pd.read_csv(file_prev)\n",
    "\n",
    "#### only keeping days with delay ########\n",
    "\n",
    "data_2022 = data_2022[data_2022['DEP_DELAY'] > 0]\n",
    "data_2021 = data_2021[data_2021['DEP_DELAY'] > 0]\n",
    "\n",
    "delay_time = data_2022['DEP_DELAY'].fillna(0)\n",
    "data_2022['Date'] = pd.to_datetime(data_2022['FL_DATE'])\n",
    "\n",
    "train_len = int(len(delay_time) * .7)\n",
    "print(train_len)\n",
    "delay_train = delay_time[:train_len].copy()\n",
    "delay_test = delay_time[train_len:].copy()"
   ]
  },
  {
   "cell_type": "code",
   "execution_count": 24,
   "id": "cdf27d8b",
   "metadata": {},
   "outputs": [
    {
     "data": {
      "text/html": [
       "<div>\n",
       "<style scoped>\n",
       "    .dataframe tbody tr th:only-of-type {\n",
       "        vertical-align: middle;\n",
       "    }\n",
       "\n",
       "    .dataframe tbody tr th {\n",
       "        vertical-align: top;\n",
       "    }\n",
       "\n",
       "    .dataframe thead th {\n",
       "        text-align: right;\n",
       "    }\n",
       "</style>\n",
       "<table border=\"1\" class=\"dataframe\">\n",
       "  <thead>\n",
       "    <tr style=\"text-align: right;\">\n",
       "      <th></th>\n",
       "      <th>ds</th>\n",
       "      <th>y</th>\n",
       "    </tr>\n",
       "  </thead>\n",
       "  <tbody>\n",
       "    <tr>\n",
       "      <th>1</th>\n",
       "      <td>2022-01-01</td>\n",
       "      <td>72.0</td>\n",
       "    </tr>\n",
       "    <tr>\n",
       "      <th>3</th>\n",
       "      <td>2022-01-01</td>\n",
       "      <td>95.0</td>\n",
       "    </tr>\n",
       "    <tr>\n",
       "      <th>9</th>\n",
       "      <td>2022-01-01</td>\n",
       "      <td>5.0</td>\n",
       "    </tr>\n",
       "    <tr>\n",
       "      <th>11</th>\n",
       "      <td>2022-01-01</td>\n",
       "      <td>1.0</td>\n",
       "    </tr>\n",
       "    <tr>\n",
       "      <th>16</th>\n",
       "      <td>2022-01-01</td>\n",
       "      <td>5.0</td>\n",
       "    </tr>\n",
       "    <tr>\n",
       "      <th>...</th>\n",
       "      <td>...</td>\n",
       "      <td>...</td>\n",
       "    </tr>\n",
       "    <tr>\n",
       "      <th>217040</th>\n",
       "      <td>2022-09-08</td>\n",
       "      <td>3.0</td>\n",
       "    </tr>\n",
       "    <tr>\n",
       "      <th>217042</th>\n",
       "      <td>2022-09-08</td>\n",
       "      <td>44.0</td>\n",
       "    </tr>\n",
       "    <tr>\n",
       "      <th>217061</th>\n",
       "      <td>2022-09-08</td>\n",
       "      <td>7.0</td>\n",
       "    </tr>\n",
       "    <tr>\n",
       "      <th>217063</th>\n",
       "      <td>2022-09-08</td>\n",
       "      <td>9.0</td>\n",
       "    </tr>\n",
       "    <tr>\n",
       "      <th>217065</th>\n",
       "      <td>2022-09-08</td>\n",
       "      <td>17.0</td>\n",
       "    </tr>\n",
       "  </tbody>\n",
       "</table>\n",
       "<p>83577 rows × 2 columns</p>\n",
       "</div>"
      ],
      "text/plain": [
       "               ds     y\n",
       "1      2022-01-01  72.0\n",
       "3      2022-01-01  95.0\n",
       "9      2022-01-01   5.0\n",
       "11     2022-01-01   1.0\n",
       "16     2022-01-01   5.0\n",
       "...           ...   ...\n",
       "217040 2022-09-08   3.0\n",
       "217042 2022-09-08  44.0\n",
       "217061 2022-09-08   7.0\n",
       "217063 2022-09-08   9.0\n",
       "217065 2022-09-08  17.0\n",
       "\n",
       "[83577 rows x 2 columns]"
      ]
     },
     "metadata": {},
     "output_type": "display_data"
    },
    {
     "data": {
      "text/html": [
       "<div>\n",
       "<style scoped>\n",
       "    .dataframe tbody tr th:only-of-type {\n",
       "        vertical-align: middle;\n",
       "    }\n",
       "\n",
       "    .dataframe tbody tr th {\n",
       "        vertical-align: top;\n",
       "    }\n",
       "\n",
       "    .dataframe thead th {\n",
       "        text-align: right;\n",
       "    }\n",
       "</style>\n",
       "<table border=\"1\" class=\"dataframe\">\n",
       "  <thead>\n",
       "    <tr style=\"text-align: right;\">\n",
       "      <th></th>\n",
       "      <th>ds</th>\n",
       "      <th>y</th>\n",
       "    </tr>\n",
       "  </thead>\n",
       "  <tbody>\n",
       "    <tr>\n",
       "      <th>217069</th>\n",
       "      <td>2022-09-08</td>\n",
       "      <td>22.0</td>\n",
       "    </tr>\n",
       "    <tr>\n",
       "      <th>217072</th>\n",
       "      <td>2022-09-08</td>\n",
       "      <td>5.0</td>\n",
       "    </tr>\n",
       "    <tr>\n",
       "      <th>217073</th>\n",
       "      <td>2022-09-08</td>\n",
       "      <td>3.0</td>\n",
       "    </tr>\n",
       "    <tr>\n",
       "      <th>217075</th>\n",
       "      <td>2022-09-08</td>\n",
       "      <td>4.0</td>\n",
       "    </tr>\n",
       "    <tr>\n",
       "      <th>217079</th>\n",
       "      <td>2022-09-08</td>\n",
       "      <td>39.0</td>\n",
       "    </tr>\n",
       "    <tr>\n",
       "      <th>...</th>\n",
       "      <td>...</td>\n",
       "      <td>...</td>\n",
       "    </tr>\n",
       "    <tr>\n",
       "      <th>317913</th>\n",
       "      <td>2022-12-31</td>\n",
       "      <td>35.0</td>\n",
       "    </tr>\n",
       "    <tr>\n",
       "      <th>317915</th>\n",
       "      <td>2022-12-31</td>\n",
       "      <td>6.0</td>\n",
       "    </tr>\n",
       "    <tr>\n",
       "      <th>317917</th>\n",
       "      <td>2022-12-31</td>\n",
       "      <td>23.0</td>\n",
       "    </tr>\n",
       "    <tr>\n",
       "      <th>317920</th>\n",
       "      <td>2022-12-31</td>\n",
       "      <td>5.0</td>\n",
       "    </tr>\n",
       "    <tr>\n",
       "      <th>317921</th>\n",
       "      <td>2022-12-31</td>\n",
       "      <td>5.0</td>\n",
       "    </tr>\n",
       "  </tbody>\n",
       "</table>\n",
       "<p>35819 rows × 2 columns</p>\n",
       "</div>"
      ],
      "text/plain": [
       "               ds     y\n",
       "217069 2022-09-08  22.0\n",
       "217072 2022-09-08   5.0\n",
       "217073 2022-09-08   3.0\n",
       "217075 2022-09-08   4.0\n",
       "217079 2022-09-08  39.0\n",
       "...           ...   ...\n",
       "317913 2022-12-31  35.0\n",
       "317915 2022-12-31   6.0\n",
       "317917 2022-12-31  23.0\n",
       "317920 2022-12-31   5.0\n",
       "317921 2022-12-31   5.0\n",
       "\n",
       "[35819 rows x 2 columns]"
      ]
     },
     "metadata": {},
     "output_type": "display_data"
    }
   ],
   "source": [
    "##### Putting it in format Prophet needs ########\n",
    "delay_train_df = pd.DataFrame()\n",
    "delay_train_df['ds'] = data_2022.Date[:train_len]\n",
    "delay_train_df['y'] = delay_train\n",
    "display(delay_train_df)\n",
    "\n",
    "delay_test_df = pd.DataFrame()\n",
    "delay_test_df['ds'] = data_2022.Date[train_len:]\n",
    "delay_test_df['y'] = delay_test\n",
    "\n",
    "display(delay_test_df)"
   ]
  },
  {
   "cell_type": "code",
   "execution_count": 25,
   "id": "70325a45",
   "metadata": {},
   "outputs": [
    {
     "name": "stderr",
     "output_type": "stream",
     "text": [
      "20:00:45 - cmdstanpy - INFO - Chain [1] start processing\n",
      "20:00:56 - cmdstanpy - INFO - Chain [1] done processing\n"
     ]
    },
    {
     "data": {
      "text/plain": [
       "<prophet.forecaster.Prophet at 0x7fcf98377a00>"
      ]
     },
     "execution_count": 25,
     "metadata": {},
     "output_type": "execute_result"
    }
   ],
   "source": [
    "m = Prophet(daily_seasonality=True)\n",
    "\n",
    "## Fitting the model, notice that we just input the df\n",
    "## no .fit(X, y)\n",
    "m.fit(delay_train_df)"
   ]
  },
  {
   "cell_type": "code",
   "execution_count": 26,
   "id": "f740adf0",
   "metadata": {},
   "outputs": [
    {
     "name": "stdout",
     "output_type": "stream",
     "text": [
      "              ds      trend  yhat_lower  yhat_upper  trend_lower  trend_upper  \\\n",
      "0     2022-09-08  50.114696  -59.914971  105.422265    50.114696    50.114696   \n",
      "1     2022-09-08  50.114696  -63.120603  106.221695    50.114696    50.114696   \n",
      "2     2022-09-08  50.114696  -51.889072  112.830159    50.114696    50.114696   \n",
      "3     2022-09-08  50.114696  -54.788168  107.465005    50.114696    50.114696   \n",
      "4     2022-09-08  50.114696  -65.001991  106.478632    50.114696    50.114696   \n",
      "...          ...        ...         ...         ...          ...          ...   \n",
      "35814 2022-12-31  -6.162788 -384.922442  328.072385  -356.210879   351.317724   \n",
      "35815 2022-12-31  -6.162788 -388.170196  331.279645  -356.233717   351.327419   \n",
      "35816 2022-12-31  -6.162788 -390.703941  321.595571  -356.256555   351.337114   \n",
      "35817 2022-12-31  -6.162788 -390.941270  339.258172  -356.279392   351.346808   \n",
      "35818 2022-12-31  -6.162788 -386.812496  326.671134  -356.302230   351.356503   \n",
      "\n",
      "       additive_terms  additive_terms_lower  additive_terms_upper      daily  \\\n",
      "0          -26.028175            -26.028175            -26.028175 -27.231188   \n",
      "1          -26.028175            -26.028175            -26.028175 -27.231188   \n",
      "2          -26.028175            -26.028175            -26.028175 -27.231188   \n",
      "3          -26.028175            -26.028175            -26.028175 -27.231188   \n",
      "4          -26.028175            -26.028175            -26.028175 -27.231188   \n",
      "...               ...                   ...                   ...        ...   \n",
      "35814      -25.905226            -25.905226            -25.905226 -27.231188   \n",
      "35815      -25.905226            -25.905226            -25.905226 -27.231188   \n",
      "35816      -25.905226            -25.905226            -25.905226 -27.231188   \n",
      "35817      -25.905226            -25.905226            -25.905226 -27.231188   \n",
      "35818      -25.905226            -25.905226            -25.905226 -27.231188   \n",
      "\n",
      "       daily_lower  daily_upper    weekly  weekly_lower  weekly_upper  \\\n",
      "0       -27.231188   -27.231188  1.203013      1.203013      1.203013   \n",
      "1       -27.231188   -27.231188  1.203013      1.203013      1.203013   \n",
      "2       -27.231188   -27.231188  1.203013      1.203013      1.203013   \n",
      "3       -27.231188   -27.231188  1.203013      1.203013      1.203013   \n",
      "4       -27.231188   -27.231188  1.203013      1.203013      1.203013   \n",
      "...            ...          ...       ...           ...           ...   \n",
      "35814   -27.231188   -27.231188  1.325962      1.325962      1.325962   \n",
      "35815   -27.231188   -27.231188  1.325962      1.325962      1.325962   \n",
      "35816   -27.231188   -27.231188  1.325962      1.325962      1.325962   \n",
      "35817   -27.231188   -27.231188  1.325962      1.325962      1.325962   \n",
      "35818   -27.231188   -27.231188  1.325962      1.325962      1.325962   \n",
      "\n",
      "       multiplicative_terms  multiplicative_terms_lower  \\\n",
      "0                       0.0                         0.0   \n",
      "1                       0.0                         0.0   \n",
      "2                       0.0                         0.0   \n",
      "3                       0.0                         0.0   \n",
      "4                       0.0                         0.0   \n",
      "...                     ...                         ...   \n",
      "35814                   0.0                         0.0   \n",
      "35815                   0.0                         0.0   \n",
      "35816                   0.0                         0.0   \n",
      "35817                   0.0                         0.0   \n",
      "35818                   0.0                         0.0   \n",
      "\n",
      "       multiplicative_terms_upper       yhat  \n",
      "0                             0.0  24.086520  \n",
      "1                             0.0  24.086520  \n",
      "2                             0.0  24.086520  \n",
      "3                             0.0  24.086520  \n",
      "4                             0.0  24.086520  \n",
      "...                           ...        ...  \n",
      "35814                         0.0 -32.068014  \n",
      "35815                         0.0 -32.068014  \n",
      "35816                         0.0 -32.068014  \n",
      "35817                         0.0 -32.068014  \n",
      "35818                         0.0 -32.068014  \n",
      "\n",
      "[35819 rows x 19 columns]\n"
     ]
    }
   ],
   "source": [
    "print(m.predict(delay_test_df[['ds']]))"
   ]
  },
  {
   "cell_type": "code",
   "execution_count": 19,
   "id": "58f0e43e",
   "metadata": {},
   "outputs": [
    {
     "name": "stdout",
     "output_type": "stream",
     "text": [
      "               ds   y\n",
      "217069 2022-09-08 NaN\n",
      "217072 2022-09-08 NaN\n",
      "217073 2022-09-08 NaN\n",
      "217075 2022-09-08 NaN\n",
      "217079 2022-09-08 NaN\n",
      "...           ...  ..\n",
      "317913 2022-12-31 NaN\n",
      "317915 2022-12-31 NaN\n",
      "317917 2022-12-31 NaN\n",
      "317920 2022-12-31 NaN\n",
      "317921 2022-12-31 NaN\n",
      "\n",
      "[35819 rows x 2 columns]\n"
     ]
    }
   ],
   "source": [
    "print(delay_test_df)"
   ]
  },
  {
   "cell_type": "code",
   "execution_count": 28,
   "id": "344d316d",
   "metadata": {},
   "outputs": [
    {
     "data": {
      "image/png": "[encoded data removed]",
      "text/plain": [
       "<Figure size 720x360 with 1 Axes>"
      ]
     },
     "metadata": {},
     "output_type": "display_data"
    }
   ],
   "source": [
    "plt.figure(figsize=(10,5))\n",
    "\n",
    "plt.plot(delay_train_df.ds,\n",
    "         delay_train_df.y,\n",
    "         'b-',\n",
    "         label=\"Training Data\")\n",
    "\n",
    "# plt.plot(delay_train_df.ds,\n",
    "#          m.predict().yhat,\n",
    "#          'r--',\n",
    "#          label=\"Prophet Prediction\")\n",
    "\n",
    "plt.plot(delay_test_df.ds,\n",
    "         delay_test_df.y,\n",
    "         'r-',\n",
    "         label=\"Test Data\")\n",
    "\n",
    "plt.plot(delay_test_df.ds,\n",
    "         m.predict(delay_test_df[['ds']]).yhat,\n",
    "         'k--',\n",
    "         label='Prediction')\n",
    "\n",
    "\n",
    "\n",
    "plt.legend(fontsize=12)\n",
    "\n",
    "plt.show()"
   ]
  },
  {
   "cell_type": "code",
   "execution_count": null,
   "id": "1d657171",
   "metadata": {},
   "outputs": [],
   "source": []
  }
 ],
 "metadata": {
  "kernelspec": {
   "display_name": "Python 3",
   "language": "python",
   "name": "python3"
  },
  "language_info": {
   "codemirror_mode": {
    "name": "ipython",
    "version": 3
   },
   "file_extension": ".py",
   "mimetype": "text/x-python",
   "name": "python",
   "nbconvert_exporter": "python",
   "pygments_lexer": "ipython3",
   "version": "3.8.8"
  }
 },
 "nbformat": 4,
 "nbformat_minor": 5
}
