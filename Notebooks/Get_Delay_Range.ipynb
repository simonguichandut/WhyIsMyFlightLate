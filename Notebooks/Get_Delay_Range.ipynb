{
 "cells": [
  {
   "cell_type": "code",
   "execution_count": 69,
   "id": "c1f764d2",
   "metadata": {},
   "outputs": [],
   "source": [
    "import numpy as np\n",
    "import pandas as pd\n",
    "from sklearn import preprocessing\n",
    "from sklearn.model_selection import train_test_split\n",
    "from sklearn.linear_model import LogisticRegression\n",
    "from sklearn.metrics import classification_report\n",
    "from sklearn.inspection import permutation_importance\n",
    "from sklearn.metrics import confusion_matrix\n",
    "from sklearn.metrics import recall_score, precision_score\n",
    "from sklearn.ensemble import RandomForestClassifier\n",
    "import xgboost as xgb\n",
    "import matplotlib.pyplot as plt\n",
    "import gc\n",
    "from sklearn.metrics import accuracy_score, classification_report\n",
    "from sklearn.model_selection import RandomizedSearchCV\n",
    "from sklearn.ensemble import RandomForestRegressor"
   ]
  },
  {
   "cell_type": "code",
   "execution_count": 28,
   "id": "27028f8b",
   "metadata": {},
   "outputs": [],
   "source": [
    "df0 = pd.read_csv('/Users/ketansand/Downloads/Flight_Data/clean_data.csv', parse_dates=[1])"
   ]
  },
  {
   "cell_type": "code",
   "execution_count": 29,
   "id": "5ee522df",
   "metadata": {},
   "outputs": [],
   "source": [
    "df0 = df0[df0['DEP_DELAY']>15]"
   ]
  },
  {
   "cell_type": "code",
   "execution_count": 42,
   "id": "00dd3096",
   "metadata": {},
   "outputs": [],
   "source": [
    "df0 = df0[~df0[\"FL_DATE\"].dt.year.isin([2020,2021,2023])] # excise pandemic\n",
    "# delay_thresh=30.\n",
    "\n",
    "# df0=df0.assign(DELAY_TF=pd.Series(df0['DEP_DELAY']>delay_thresh).values.astype(float)) # declare delay TRUE/FALSE \n",
    "\n",
    "df0['DELAY_range'] = df0['DEP_DELAY'].apply(lambda x: 0 if x <= 30 else x)\n",
    "df0['DELAY_range'] = df0['DELAY_range'].apply(lambda x: 1 if (30 < x < 60) else x)\n",
    "df0['DELAY_range'] = df0['DELAY_range'].apply(lambda x: 2 if x >= 60 else x)\n",
    "\n",
    "df = pd.get_dummies(df0,columns=['OP_UNIQUE_CARRIER','ORIGIN_AIRPORT_ID','DEST_AIRPORT_ID'], drop_first=True, dtype=float) # one-hot\n",
    "X = df.drop(columns=['FL_DATE','CARRIER_DELAY','WEATHER_DELAY','NAS_DELAY','SECURITY_DELAY','LATE_AIRCRAFT_DELAY','DEP_DELAY','DELAY_range'])\n",
    "X = X.loc[:, ~X.columns.str.contains('^Unnamed')]\n",
    "X = X.apply(pd.to_numeric)\n",
    "X = X.assign(YEAR_FRAC_sin=pd.Series(np.sin(2.*np.pi*X['FRAC_YEAR']/1.0)).values)\n",
    "X = X.assign(YEAR_FRAC_cos=pd.Series(np.cos(2.*np.pi*X['FRAC_YEAR']/1.0)).values)\n",
    "X = X.assign(DAY_FRAC_sin=pd.Series(np.sin(2.*np.pi*X['FRAC_DAY']/1.0)).values)\n",
    "X = X.assign(DAY_FRAC_cos=pd.Series(np.cos(2.*np.pi*X['FRAC_DAY']/1.0)).values)\n",
    "X = X.drop(columns=['FRAC_DAY','FRAC_YEAR'])\n",
    "y = df['DELAY_range']"
   ]
  },
  {
   "cell_type": "code",
   "execution_count": 43,
   "id": "69921ca6",
   "metadata": {},
   "outputs": [
    {
     "data": {
      "text/html": [
       "<div>\n",
       "<style scoped>\n",
       "    .dataframe tbody tr th:only-of-type {\n",
       "        vertical-align: middle;\n",
       "    }\n",
       "\n",
       "    .dataframe tbody tr th {\n",
       "        vertical-align: top;\n",
       "    }\n",
       "\n",
       "    .dataframe thead th {\n",
       "        text-align: right;\n",
       "    }\n",
       "</style>\n",
       "<table border=\"1\" class=\"dataframe\">\n",
       "  <thead>\n",
       "    <tr style=\"text-align: right;\">\n",
       "      <th></th>\n",
       "      <th>AIR_TIME</th>\n",
       "      <th>OP_UNIQUE_CARRIER_AS</th>\n",
       "      <th>OP_UNIQUE_CARRIER_B6</th>\n",
       "      <th>OP_UNIQUE_CARRIER_DL</th>\n",
       "      <th>OP_UNIQUE_CARRIER_NK</th>\n",
       "      <th>OP_UNIQUE_CARRIER_OO</th>\n",
       "      <th>OP_UNIQUE_CARRIER_UA</th>\n",
       "      <th>OP_UNIQUE_CARRIER_WN</th>\n",
       "      <th>ORIGIN_AIRPORT_ID_10721</th>\n",
       "      <th>ORIGIN_AIRPORT_ID_11057</th>\n",
       "      <th>...</th>\n",
       "      <th>DEST_AIRPORT_ID_13487</th>\n",
       "      <th>DEST_AIRPORT_ID_13930</th>\n",
       "      <th>DEST_AIRPORT_ID_14107</th>\n",
       "      <th>DEST_AIRPORT_ID_14747</th>\n",
       "      <th>DEST_AIRPORT_ID_14771</th>\n",
       "      <th>DEST_AIRPORT_ID_14869</th>\n",
       "      <th>YEAR_FRAC_sin</th>\n",
       "      <th>YEAR_FRAC_cos</th>\n",
       "      <th>DAY_FRAC_sin</th>\n",
       "      <th>DAY_FRAC_cos</th>\n",
       "    </tr>\n",
       "  </thead>\n",
       "  <tbody>\n",
       "    <tr>\n",
       "      <th>7</th>\n",
       "      <td>114.0</td>\n",
       "      <td>0.0</td>\n",
       "      <td>0.0</td>\n",
       "      <td>0.0</td>\n",
       "      <td>0.0</td>\n",
       "      <td>0.0</td>\n",
       "      <td>0.0</td>\n",
       "      <td>0.0</td>\n",
       "      <td>0.0</td>\n",
       "      <td>0.0</td>\n",
       "      <td>...</td>\n",
       "      <td>0.0</td>\n",
       "      <td>0.0</td>\n",
       "      <td>0.0</td>\n",
       "      <td>0.0</td>\n",
       "      <td>0.0</td>\n",
       "      <td>0.0</td>\n",
       "      <td>0.011218</td>\n",
       "      <td>0.999937</td>\n",
       "      <td>-0.821647</td>\n",
       "      <td>-0.569997</td>\n",
       "    </tr>\n",
       "    <tr>\n",
       "      <th>19</th>\n",
       "      <td>342.0</td>\n",
       "      <td>0.0</td>\n",
       "      <td>0.0</td>\n",
       "      <td>0.0</td>\n",
       "      <td>0.0</td>\n",
       "      <td>0.0</td>\n",
       "      <td>0.0</td>\n",
       "      <td>0.0</td>\n",
       "      <td>1.0</td>\n",
       "      <td>0.0</td>\n",
       "      <td>...</td>\n",
       "      <td>0.0</td>\n",
       "      <td>0.0</td>\n",
       "      <td>0.0</td>\n",
       "      <td>0.0</td>\n",
       "      <td>0.0</td>\n",
       "      <td>0.0</td>\n",
       "      <td>0.010753</td>\n",
       "      <td>0.999942</td>\n",
       "      <td>-0.713250</td>\n",
       "      <td>-0.700909</td>\n",
       "    </tr>\n",
       "    <tr>\n",
       "      <th>20</th>\n",
       "      <td>140.0</td>\n",
       "      <td>0.0</td>\n",
       "      <td>0.0</td>\n",
       "      <td>0.0</td>\n",
       "      <td>0.0</td>\n",
       "      <td>0.0</td>\n",
       "      <td>0.0</td>\n",
       "      <td>0.0</td>\n",
       "      <td>1.0</td>\n",
       "      <td>0.0</td>\n",
       "      <td>...</td>\n",
       "      <td>0.0</td>\n",
       "      <td>1.0</td>\n",
       "      <td>0.0</td>\n",
       "      <td>0.0</td>\n",
       "      <td>0.0</td>\n",
       "      <td>0.0</td>\n",
       "      <td>0.004089</td>\n",
       "      <td>0.999992</td>\n",
       "      <td>0.997250</td>\n",
       "      <td>0.074108</td>\n",
       "    </tr>\n",
       "    <tr>\n",
       "      <th>41</th>\n",
       "      <td>85.0</td>\n",
       "      <td>0.0</td>\n",
       "      <td>0.0</td>\n",
       "      <td>0.0</td>\n",
       "      <td>0.0</td>\n",
       "      <td>0.0</td>\n",
       "      <td>0.0</td>\n",
       "      <td>0.0</td>\n",
       "      <td>0.0</td>\n",
       "      <td>0.0</td>\n",
       "      <td>...</td>\n",
       "      <td>0.0</td>\n",
       "      <td>0.0</td>\n",
       "      <td>0.0</td>\n",
       "      <td>0.0</td>\n",
       "      <td>0.0</td>\n",
       "      <td>0.0</td>\n",
       "      <td>0.005591</td>\n",
       "      <td>0.999984</td>\n",
       "      <td>0.889017</td>\n",
       "      <td>-0.457874</td>\n",
       "    </tr>\n",
       "    <tr>\n",
       "      <th>45</th>\n",
       "      <td>81.0</td>\n",
       "      <td>0.0</td>\n",
       "      <td>0.0</td>\n",
       "      <td>0.0</td>\n",
       "      <td>0.0</td>\n",
       "      <td>0.0</td>\n",
       "      <td>0.0</td>\n",
       "      <td>0.0</td>\n",
       "      <td>0.0</td>\n",
       "      <td>0.0</td>\n",
       "      <td>...</td>\n",
       "      <td>0.0</td>\n",
       "      <td>0.0</td>\n",
       "      <td>0.0</td>\n",
       "      <td>0.0</td>\n",
       "      <td>0.0</td>\n",
       "      <td>0.0</td>\n",
       "      <td>0.010801</td>\n",
       "      <td>0.999942</td>\n",
       "      <td>-0.725374</td>\n",
       "      <td>-0.688355</td>\n",
       "    </tr>\n",
       "  </tbody>\n",
       "</table>\n",
       "<p>5 rows × 50 columns</p>\n",
       "</div>"
      ],
      "text/plain": [
       "    AIR_TIME  OP_UNIQUE_CARRIER_AS  OP_UNIQUE_CARRIER_B6  \\\n",
       "7      114.0                   0.0                   0.0   \n",
       "19     342.0                   0.0                   0.0   \n",
       "20     140.0                   0.0                   0.0   \n",
       "41      85.0                   0.0                   0.0   \n",
       "45      81.0                   0.0                   0.0   \n",
       "\n",
       "    OP_UNIQUE_CARRIER_DL  OP_UNIQUE_CARRIER_NK  OP_UNIQUE_CARRIER_OO  \\\n",
       "7                    0.0                   0.0                   0.0   \n",
       "19                   0.0                   0.0                   0.0   \n",
       "20                   0.0                   0.0                   0.0   \n",
       "41                   0.0                   0.0                   0.0   \n",
       "45                   0.0                   0.0                   0.0   \n",
       "\n",
       "    OP_UNIQUE_CARRIER_UA  OP_UNIQUE_CARRIER_WN  ORIGIN_AIRPORT_ID_10721  \\\n",
       "7                    0.0                   0.0                      0.0   \n",
       "19                   0.0                   0.0                      1.0   \n",
       "20                   0.0                   0.0                      1.0   \n",
       "41                   0.0                   0.0                      0.0   \n",
       "45                   0.0                   0.0                      0.0   \n",
       "\n",
       "    ORIGIN_AIRPORT_ID_11057  ...  DEST_AIRPORT_ID_13487  \\\n",
       "7                       0.0  ...                    0.0   \n",
       "19                      0.0  ...                    0.0   \n",
       "20                      0.0  ...                    0.0   \n",
       "41                      0.0  ...                    0.0   \n",
       "45                      0.0  ...                    0.0   \n",
       "\n",
       "    DEST_AIRPORT_ID_13930  DEST_AIRPORT_ID_14107  DEST_AIRPORT_ID_14747  \\\n",
       "7                     0.0                    0.0                    0.0   \n",
       "19                    0.0                    0.0                    0.0   \n",
       "20                    1.0                    0.0                    0.0   \n",
       "41                    0.0                    0.0                    0.0   \n",
       "45                    0.0                    0.0                    0.0   \n",
       "\n",
       "    DEST_AIRPORT_ID_14771  DEST_AIRPORT_ID_14869  YEAR_FRAC_sin  \\\n",
       "7                     0.0                    0.0       0.011218   \n",
       "19                    0.0                    0.0       0.010753   \n",
       "20                    0.0                    0.0       0.004089   \n",
       "41                    0.0                    0.0       0.005591   \n",
       "45                    0.0                    0.0       0.010801   \n",
       "\n",
       "    YEAR_FRAC_cos  DAY_FRAC_sin  DAY_FRAC_cos  \n",
       "7        0.999937     -0.821647     -0.569997  \n",
       "19       0.999942     -0.713250     -0.700909  \n",
       "20       0.999992      0.997250      0.074108  \n",
       "41       0.999984      0.889017     -0.457874  \n",
       "45       0.999942     -0.725374     -0.688355  \n",
       "\n",
       "[5 rows x 50 columns]"
      ]
     },
     "execution_count": 43,
     "metadata": {},
     "output_type": "execute_result"
    }
   ],
   "source": [
    "X.head()"
   ]
  },
  {
   "cell_type": "code",
   "execution_count": 45,
   "id": "4fa78734",
   "metadata": {},
   "outputs": [],
   "source": [
    "X_train, X_test, y_train, y_test = train_test_split(X, y,shuffle=True,random_state=41,test_size=.2,stratify=y)"
   ]
  },
  {
   "cell_type": "code",
   "execution_count": 46,
   "id": "d0c02492",
   "metadata": {},
   "outputs": [],
   "source": [
    "scaler = preprocessing.MinMaxScaler().fit(X_train)\n",
    "X_train = scaler.transform(X_train)\n",
    "X_test = scaler.transform(X_test)"
   ]
  },
  {
   "cell_type": "code",
   "execution_count": 47,
   "id": "5405d8d4",
   "metadata": {},
   "outputs": [
    {
     "data": {
      "text/plain": [
       "107"
      ]
     },
     "execution_count": 47,
     "metadata": {},
     "output_type": "execute_result"
    }
   ],
   "source": [
    "gc.collect()"
   ]
  },
  {
   "cell_type": "code",
   "execution_count": 48,
   "id": "274929cb",
   "metadata": {},
   "outputs": [
    {
     "data": {
      "text/plain": [
       "LogisticRegression(max_iter=1000, multi_class='multinomial')"
      ]
     },
     "execution_count": 48,
     "metadata": {},
     "output_type": "execute_result"
    }
   ],
   "source": [
    "model = LogisticRegression(multi_class='multinomial', solver='lbfgs', max_iter=1000)\n",
    "\n",
    "# Fit the model to the training data\n",
    "model.fit(X_train, y_train)"
   ]
  },
  {
   "cell_type": "code",
   "execution_count": 49,
   "id": "6f43e090",
   "metadata": {},
   "outputs": [
    {
     "name": "stdout",
     "output_type": "stream",
     "text": [
      "Accuracy: 0.40\n",
      "Classification Report:\n",
      "               precision    recall  f1-score   support\n",
      "\n",
      "         0.0       0.40      0.61      0.48    151512\n",
      "         1.0       0.33      0.01      0.02    126382\n",
      "         2.0       0.41      0.53      0.46    145165\n",
      "\n",
      "    accuracy                           0.40    423059\n",
      "   macro avg       0.38      0.38      0.32    423059\n",
      "weighted avg       0.38      0.40      0.34    423059\n",
      "\n"
     ]
    }
   ],
   "source": [
    "# Make predictions on the test set\n",
    "y_pred = model.predict(X_test)\n",
    "\n",
    "# Evaluate the model\n",
    "accuracy = accuracy_score(y_test, y_pred)\n",
    "report = classification_report(y_test, y_pred)\n",
    "\n",
    "# Print the results\n",
    "print(f\"Accuracy: {accuracy:.2f}\")\n",
    "print(\"Classification Report:\\n\", report)"
   ]
  },
  {
   "cell_type": "code",
   "execution_count": 52,
   "id": "25e1361b",
   "metadata": {},
   "outputs": [
    {
     "data": {
      "text/plain": [
       "RandomForestClassifier(random_state=42)"
      ]
     },
     "execution_count": 52,
     "metadata": {},
     "output_type": "execute_result"
    }
   ],
   "source": [
    "rf_classifier = RandomForestClassifier(n_estimators=100, random_state=42)\n",
    "\n",
    "# Fit the model to the training data\n",
    "rf_classifier.fit(X_train, y_train)"
   ]
  },
  {
   "cell_type": "code",
   "execution_count": 53,
   "id": "3a5ebfb8",
   "metadata": {},
   "outputs": [
    {
     "name": "stdout",
     "output_type": "stream",
     "text": [
      "Accuracy: 0.57\n",
      "Classification Report:\n",
      "               precision    recall  f1-score   support\n",
      "\n",
      "         0.0       0.59      0.65      0.62    151512\n",
      "         1.0       0.51      0.44      0.47    126382\n",
      "         2.0       0.59      0.60      0.60    145165\n",
      "\n",
      "    accuracy                           0.57    423059\n",
      "   macro avg       0.56      0.56      0.56    423059\n",
      "weighted avg       0.57      0.57      0.57    423059\n",
      "\n"
     ]
    }
   ],
   "source": [
    "y_pred = rf_classifier.predict(X_test)\n",
    "\n",
    "# Evaluate the model\n",
    "accuracy = accuracy_score(y_test, y_pred)\n",
    "report = classification_report(y_test, y_pred)\n",
    "\n",
    "# Print the results\n",
    "print(f\"Accuracy: {accuracy:.2f}\")\n",
    "print(\"Classification Report:\\n\", report)"
   ]
  },
  {
   "cell_type": "code",
   "execution_count": 56,
   "id": "7025b01e",
   "metadata": {},
   "outputs": [
    {
     "data": {
      "image/png": "[encoded data removed]",
      "text/plain": [
       "<Figure size 432x288 with 1 Axes>"
      ]
     },
     "metadata": {
      "needs_background": "light"
     },
     "output_type": "display_data"
    }
   ],
   "source": [
    "\n",
    "# feature importance based on impurity\n",
    "importances = rf_classifier.feature_importances_\n",
    "std = np.std([tree.feature_importances_ for tree in rf_classifier.estimators_], axis=0)\n",
    "\n",
    "feature_names = X.columns\n",
    "forest_importances = pd.Series(importances, index=feature_names)\n",
    "\n",
    "fig, ax = plt.subplots()\n",
    "forest_importances.plot.bar(yerr=std, ax=ax)\n",
    "ax.set_title(\"Feature importances using MDI\")\n",
    "ax.set_ylabel(\"Mean decrease in impurity\")\n",
    "fig.tight_layout()\n",
    "plt.show()"
   ]
  },
  {
   "cell_type": "code",
   "execution_count": 57,
   "id": "f85c41ed",
   "metadata": {},
   "outputs": [
    {
     "data": {
      "image/png": "[encoded data removed]",
      "text/plain": [
       "<Figure size 432x288 with 1 Axes>"
      ]
     },
     "metadata": {
      "needs_background": "light"
     },
     "output_type": "display_data"
    }
   ],
   "source": [
    "model_fi = permutation_importance(model, X, y, n_repeats=5, random_state=42)\n",
    "forest_importances = pd.Series(model_fi.importances_mean, index=feature_names)\n",
    "fig, ax = plt.subplots()\n",
    "forest_importances.plot.bar(yerr=model_fi.importances_std, ax=ax)\n",
    "ax.set_title(\"Feature importances using permutation on full model\")\n",
    "ax.set_ylabel(\"Mean accuracy decrease\")\n",
    "fig.tight_layout()\n",
    "plt.show()"
   ]
  },
  {
   "cell_type": "code",
   "execution_count": 60,
   "id": "15a082b7",
   "metadata": {},
   "outputs": [
    {
     "name": "stdout",
     "output_type": "stream",
     "text": [
      "{'n_estimators': [200, 400, 600, 800, 1000, 1200, 1400, 1600, 1800, 2000], 'max_features': ['auto', 'sqrt'], 'max_depth': [10, 20, 30, 40, 50, 60, 70, 80, 90, 100, 110, None], 'min_samples_split': [2, 5, 10], 'min_samples_leaf': [1, 2, 4], 'bootstrap': [True, False]}\n"
     ]
    }
   ],
   "source": [
    "###### Finding the best set of hyperparameters #########\n",
    "# Number of trees in random forest\n",
    "n_estimators = [int(x) for x in np.linspace(start = 200, stop = 2000, num = 10)]\n",
    "# Number of features to consider at every split\n",
    "max_features = ['auto', 'sqrt']\n",
    "# Maximum number of levels in tree\n",
    "max_depth = [int(x) for x in np.linspace(10, 110, num = 11)]\n",
    "max_depth.append(None)\n",
    "# Minimum number of samples required to split a node\n",
    "min_samples_split = [2, 5, 10]\n",
    "# Minimum number of samples required at each leaf node\n",
    "min_samples_leaf = [1, 2, 4]\n",
    "# Method of selecting samples for training each tree\n",
    "bootstrap = [True, False]# Create the random grid\n",
    "random_grid = {'n_estimators': n_estimators,\n",
    "               'max_features': max_features,\n",
    "               'max_depth': max_depth,\n",
    "               'min_samples_split': min_samples_split,\n",
    "               'min_samples_leaf': min_samples_leaf,\n",
    "               'bootstrap': bootstrap}\n",
    "\n",
    "print(random_grid)"
   ]
  },
  {
   "cell_type": "code",
   "execution_count": 70,
   "id": "1b8b7f61",
   "metadata": {},
   "outputs": [
    {
     "name": "stdout",
     "output_type": "stream",
     "text": [
      "Fitting 3 folds for each of 100 candidates, totalling 300 fits\n"
     ]
    },
    {
     "name": "stderr",
     "output_type": "stream",
     "text": [
      "ERROR:root:Internal Python error in the inspect module.\n",
      "Below is the traceback from this internal error.\n",
      "\n",
      "\n",
      "KeyboardInterrupt\n",
      "\n"
     ]
    }
   ],
   "source": [
    "###### Taking a lot of compute time ########\n",
    "rf = RandomForestRegressor()\n",
    "\n",
    "rf_random = RandomizedSearchCV(estimator = rf, param_distributions = random_grid, n_iter = 100, cv = 3, \n",
    "                               verbose=2, random_state=42, n_jobs = -1)# Fit the random search model\n",
    "rf_random.fit(X_train, y_train)"
   ]
  },
  {
   "cell_type": "code",
   "execution_count": null,
   "id": "215e62b1",
   "metadata": {},
   "outputs": [],
   "source": [
    "best_random = rf_random.best_estimator_\n",
    "\n",
    "print(best_random)\n",
    "\n",
    "y_pred = best_random.predict(X_test)\n",
    "\n",
    "# Evaluate the model\n",
    "accuracy = accuracy_score(y_test, y_pred)\n",
    "report = classification_report(y_test, y_pred)\n",
    "\n",
    "# Print the results\n",
    "print(f\"Accuracy: {accuracy:.2f}\")\n",
    "print(\"Classification Report:\\n\", report)"
   ]
  },
  {
   "cell_type": "code",
   "execution_count": 67,
   "id": "aa95952f",
   "metadata": {},
   "outputs": [
    {
     "data": {
      "text/plain": [
       "XGBClassifier(base_score=None, booster=None, callbacks=None,\n",
       "              colsample_bylevel=None, colsample_bynode=None,\n",
       "              colsample_bytree=None, device=None, early_stopping_rounds=None,\n",
       "              enable_categorical=False, eval_metric=None, feature_types=None,\n",
       "              gamma=None, grow_policy=None, importance_type=None,\n",
       "              interaction_constraints=None, learning_rate=None, max_bin=None,\n",
       "              max_cat_threshold=None, max_cat_to_onehot=None,\n",
       "              max_delta_step=None, max_depth=10, max_leaves=None,\n",
       "              min_child_weight=None, missing=nan, monotone_constraints=None,\n",
       "              multi_strategy=None, n_estimators=100, n_jobs=None, num_class=3,\n",
       "              num_parallel_tree=None, ...)"
      ]
     },
     "execution_count": 67,
     "metadata": {},
     "output_type": "execute_result"
    }
   ],
   "source": [
    "####### XG Boost ########\n",
    "xgb_classifier = xgb.XGBClassifier(objective='multi:softmax', num_class=len(set(y)), random_state=42, \n",
    "                                   n_estimators = 100, max_depth=10)\n",
    "\n",
    "# Fit the model to the training data\n",
    "xgb_classifier.fit(X_train, y_train)"
   ]
  },
  {
   "cell_type": "code",
   "execution_count": 66,
   "id": "cbfe41a0",
   "metadata": {},
   "outputs": [
    {
     "name": "stdout",
     "output_type": "stream",
     "text": [
      "Accuracy: 0.43\n",
      "Classification Report:\n",
      "               precision    recall  f1-score   support\n",
      "\n",
      "         0.0       0.43      0.62      0.50    151512\n",
      "         1.0       0.41      0.06      0.10    126382\n",
      "         2.0       0.44      0.56      0.49    145165\n",
      "\n",
      "    accuracy                           0.43    423059\n",
      "   macro avg       0.42      0.41      0.37    423059\n",
      "weighted avg       0.42      0.43      0.38    423059\n",
      "\n"
     ]
    }
   ],
   "source": [
    "y_pred = xgb_classifier.predict(X_test)\n",
    "\n",
    "# Evaluate the model\n",
    "accuracy = accuracy_score(y_test, y_pred)\n",
    "report = classification_report(y_test, y_pred)\n",
    "\n",
    "# Print the results\n",
    "print(f\"Accuracy: {accuracy:.2f}\")\n",
    "print(\"Classification Report:\\n\", report)"
   ]
  },
  {
   "cell_type": "code",
   "execution_count": null,
   "id": "2c41431c",
   "metadata": {},
   "outputs": [],
   "source": []
  }
 ],
 "metadata": {
  "kernelspec": {
   "display_name": "Python 3",
   "language": "python",
   "name": "python3"
  },
  "language_info": {
   "codemirror_mode": {
    "name": "ipython",
    "version": 3
   },
   "file_extension": ".py",
   "mimetype": "text/x-python",
   "name": "python",
   "nbconvert_exporter": "python",
   "pygments_lexer": "ipython3",
   "version": "3.8.8"
  }
 },
 "nbformat": 4,
 "nbformat_minor": 5
}
